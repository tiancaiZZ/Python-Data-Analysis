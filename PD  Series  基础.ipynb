{
 "cells": [
  {
   "cell_type": "code",
   "execution_count": 1,
   "metadata": {},
   "outputs": [
    {
     "data": {
      "text/plain": [
       "平安银行    100\n",
       "万科A     100\n",
       "上汽集团    100\n",
       "贵州茅台    100\n",
       "上证综指    100\n",
       "dtype: int64"
      ]
     },
     "execution_count": 1,
     "metadata": {},
     "output_type": "execute_result"
    }
   ],
   "source": [
    "#Series是带有标签的一维数组（带有标签的List）\n",
    "#可以保存任何数据类型（整数，字符串，浮点数，Python对象等）\n",
    "#轴标签统称为索引\n",
    "\n",
    "import pandas as pd\n",
    "\n",
    "#列表创建：记录持仓数量\n",
    "trade_volume = [1100,500,400,2000,500000]\n",
    "stock = ['平安银行','万科A','上汽集团','贵州茅台','上证综指']\n",
    "\n",
    "trade_volume_series = pd.Series(trade_volume,index=stock)\n",
    "trade_volume_series\n",
    "\n",
    "#字典创建：Series = list + dict\n",
    "holding_position = {\"平安银行\":100,\"万科A\":200}\n",
    "\n",
    "holding_position_series = pd.Series(holding_position)\n",
    "holding_position_series\n",
    "\n",
    "#常数创建：常数来构建Series\n",
    "#每只股票都要买100手\n",
    "buy_stock_series = pd.Series(100,index=['平安银行','万科A','上汽集团','贵州茅台','上证综指'])\n",
    "buy_stock_series"
   ]
  },
  {
   "cell_type": "code",
   "execution_count": 16,
   "metadata": {},
   "outputs": [
    {
     "data": {
      "text/plain": [
       "总收入    10000.0\n",
       "利润     10000.0\n",
       "dtype: float64"
      ]
     },
     "execution_count": 16,
     "metadata": {},
     "output_type": "execute_result"
    }
   ],
   "source": [
    "#公司A的财务数据\n",
    "# Series\n",
    "income_sheet = pd.Series([5000,10000,3000],index=['净利润','总收入','利息支出'])\n",
    "income_sheet                         \n",
    "\n",
    "#（1）顺序，位置 提取数据\n",
    "income_sheet[0]\n",
    "income_sheet.index[0]\n",
    "\n",
    "#（2）索引 提取数据\n",
    "income_sheet['利息支出']\n",
    "a = ['总收入','利息支出']\n",
    "income_sheet[a]\n",
    "\n",
    "income_sheet[['总收入','利息支出']]\n",
    "\n",
    "#财务指标 经营状况信息\n",
    "\n",
    "#（3）切片 提取数据\n",
    "#顺序做切片\n",
    "income_sheet[0:2]\n",
    "\n",
    "#索引做切片（包括最后一项）\n",
    "income_sheet['净利润':'利息支出']\n",
    "\n",
    "#（4）布尔值 提取数据\n",
    "income_sheet_2 = pd.Series([5000,10000,3000,500,10000,None],index=['净利润','总收入','利息支出','所得税支出','利润','固定资产成本'])\n",
    "income_sheet_2\n",
    "\n",
    "#剔除掉 所有数据为Nan的项目\n",
    "income_sheet_2[income_sheet_2.notnull()]\n",
    "\n",
    "#数值大于5000的会计科目\n",
    "income_sheet_2[income_sheet_2 > 5000]"
   ]
  },
  {
   "cell_type": "code",
   "execution_count": 24,
   "metadata": {},
   "outputs": [
    {
     "name": "stdout",
     "output_type": "stream",
     "text": [
      "净利润        5000.0\n",
      "总收入       10000.0\n",
      "利息支出       3000.0\n",
      "所得税支出       500.0\n",
      "利润        10000.0\n",
      "固定资产成本        NaN\n",
      "dtype: float64\n",
      " ~~~~~~~~~~~~~~~~~~~~ \n",
      "净利润       5000.0\n",
      "总收入      10000.0\n",
      "利息支出      3000.0\n",
      "所得税支出      500.0\n",
      "利润       10000.0\n",
      "管理费用         NaN\n",
      "dtype: float64\n"
     ]
    },
    {
     "data": {
      "text/plain": [
       "净利润       5000.0\n",
       "总收入      10000.0\n",
       "利息支出      3000.0\n",
       "所得税支出      500.0\n",
       "利润       10000.0\n",
       "dtype: float64"
      ]
     },
     "execution_count": 24,
     "metadata": {},
     "output_type": "execute_result"
    }
   ],
   "source": [
    "income_sheet = pd.Series([5000,10000,3000,500,10000,None],index=['净利润','总收入','利息支出','所得税支出','利润','固定资产成本'])\n",
    "income_sheet.head() #查看头部数据（前五个）\n",
    "income_sheet.tail() #查看尾部数据[-5：]\n",
    "\n",
    "#重新定义索引\n",
    "income_sheet_new = income_sheet.reindex(['净利润','总收入','利息支出','所得税支出','利润','管理费用'])\n",
    "\n",
    "print(income_sheet)\n",
    "print(\" ~~~~~~~~~~~~~~~~~~~~ \")\n",
    "print(income_sheet_new)\n",
    "\n",
    "#数据处理\n",
    "#数据来源于 多个数据库，对同一个数据，命名方式不一样\n",
    "#比如净利润 = netProfit/net_profit/NetP\n",
    "\n",
    "#删除drop()\n",
    "income_sheet_new\n",
    "\n",
    "s1 = income_sheet_new.drop('管理费用')\n",
    "s1"
   ]
  },
  {
   "cell_type": "code",
   "execution_count": null,
   "metadata": {},
   "outputs": [],
   "source": []
  }
 ],
 "metadata": {
  "kernelspec": {
   "display_name": "Python 3",
   "language": "python",
   "name": "python3"
  },
  "language_info": {
   "codemirror_mode": {
    "name": "ipython",
    "version": 3
   },
   "file_extension": ".py",
   "mimetype": "text/x-python",
   "name": "python",
   "nbconvert_exporter": "python",
   "pygments_lexer": "ipython3",
   "version": "3.7.6"
  }
 },
 "nbformat": 4,
 "nbformat_minor": 4
}
