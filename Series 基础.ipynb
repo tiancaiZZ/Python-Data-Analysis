{
 "cells": [
  {
   "cell_type": "code",
   "execution_count": 10,
   "metadata": {},
   "outputs": [
    {
     "data": {
      "text/plain": [
       "平安银行    100\n",
       "万科A     100\n",
       "上汽集团    100\n",
       "贵州茅台    100\n",
       "上证综指    100\n",
       "dtype: int64"
      ]
     },
     "execution_count": 10,
     "metadata": {},
     "output_type": "execute_result"
    }
   ],
   "source": [
    "#Series是带有标签的一维数组（带有标签的List）\n",
    "#可以保存任何数据类型（整数，字符串，浮点数，Python对象等）\n",
    "#轴标签统称为索引\n",
    "\n",
    "import pandas as pd\n",
    "\n",
    "#列表创建：记录持仓数量\n",
    "trade_volume = [1100,500,400,2000,500000]\n",
    "stock = ['平安银行','万科A','上汽集团','贵州茅台','上证综指']\n",
    "\n",
    "trade_volume_series = pd.Series(trade_volume,index=stock)\n",
    "trade_volume_series\n",
    "\n",
    "#字典创建：Series = list + dict\n",
    "holding_position = {\"平安银行\":100,\"万科A\":200}\n",
    "\n",
    "holding_position_series = pd.Series(holding_position)\n",
    "holding_position_series\n",
    "\n",
    "#常数创建：常数来构建Series\n",
    "#每只股票都要买100手\n",
    "buy_stock_series = pd.Series(100,index=['平安银行','万科A','上汽集团','贵州茅台','上证综指'])\n",
    "buy_stock_series"
   ]
  },
  {
   "cell_type": "code",
   "execution_count": 12,
   "metadata": {},
   "outputs": [
    {
     "ename": "SyntaxError",
     "evalue": "invalid syntax (<ipython-input-12-1a0febcbdf9d>, line 4)",
     "output_type": "error",
     "traceback": [
      "\u001b[0;36m  File \u001b[0;32m\"<ipython-input-12-1a0febcbdf9d>\"\u001b[0;36m, line \u001b[0;32m4\u001b[0m\n\u001b[0;31m    income_sheet\u001b[0m\n\u001b[0m               ^\u001b[0m\n\u001b[0;31mSyntaxError\u001b[0m\u001b[0;31m:\u001b[0m invalid syntax\n"
     ]
    }
   ],
   "source": [
    "#公司A的财务数据\n",
    "# Series\n",
    "income_sheet = pd.Series([5000,10000,3000],index=['净利润','总收入','利息支出']\n",
    "income_sheet                 "
   ]
  },
  {
   "cell_type": "code",
   "execution_count": 8,
   "metadata": {},
   "outputs": [
    {
     "data": {
      "text/plain": [
       "平安银行    100\n",
       "万科A     100\n",
       "上汽集团    100\n",
       "贵州茅台    100\n",
       "上证综指    100\n",
       "dtype: int64"
      ]
     },
     "execution_count": 8,
     "metadata": {},
     "output_type": "execute_result"
    }
   ],
   "source": []
  },
  {
   "cell_type": "code",
   "execution_count": null,
   "metadata": {},
   "outputs": [],
   "source": []
  }
 ],
 "metadata": {
  "kernelspec": {
   "display_name": "Python 3",
   "language": "python",
   "name": "python3"
  },
  "language_info": {
   "codemirror_mode": {
    "name": "ipython",
    "version": 3
   },
   "file_extension": ".py",
   "mimetype": "text/x-python",
   "name": "python",
   "nbconvert_exporter": "python",
   "pygments_lexer": "ipython3",
   "version": "3.7.6"
  }
 },
 "nbformat": 4,
 "nbformat_minor": 4
}
