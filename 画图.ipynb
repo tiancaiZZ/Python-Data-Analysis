{
 "cells": [
  {
   "cell_type": "code",
   "execution_count": 1,
   "metadata": {},
   "outputs": [],
   "source": [
    "#使用Python绘制Excel图形\n",
    "#matplotlib\n",
    "#http://matplotlib.org/gallery/index.html\n",
    "#需要哪个图形，点进去绘制就可以了\n",
    "\n",
    "import pandas as pd\n",
    "import matplotlib.pyplot as plt"
   ]
  },
  {
   "cell_type": "code",
   "execution_count": 3,
   "metadata": {},
   "outputs": [
    {
     "data": {
      "text/html": [
       "<div>\n",
       "<style scoped>\n",
       "    .dataframe tbody tr th:only-of-type {\n",
       "        vertical-align: middle;\n",
       "    }\n",
       "\n",
       "    .dataframe tbody tr th {\n",
       "        vertical-align: top;\n",
       "    }\n",
       "\n",
       "    .dataframe thead th {\n",
       "        text-align: right;\n",
       "    }\n",
       "</style>\n",
       "<table border=\"1\" class=\"dataframe\">\n",
       "  <thead>\n",
       "    <tr style=\"text-align: right;\">\n",
       "      <th></th>\n",
       "      <th>date</th>\n",
       "      <th>open</th>\n",
       "      <th>high</th>\n",
       "      <th>close</th>\n",
       "      <th>low</th>\n",
       "      <th>volume</th>\n",
       "      <th>price_change</th>\n",
       "      <th>p_change</th>\n",
       "      <th>ma5</th>\n",
       "      <th>ma10</th>\n",
       "      <th>ma20</th>\n",
       "      <th>v_ma5</th>\n",
       "      <th>v_ma10</th>\n",
       "      <th>v_ma20</th>\n",
       "    </tr>\n",
       "  </thead>\n",
       "  <tbody>\n",
       "    <tr>\n",
       "      <th>0</th>\n",
       "      <td>2020-05-08</td>\n",
       "      <td>13.76</td>\n",
       "      <td>14.02</td>\n",
       "      <td>13.95</td>\n",
       "      <td>13.68</td>\n",
       "      <td>934781.69</td>\n",
       "      <td>0.26</td>\n",
       "      <td>1.90</td>\n",
       "      <td>13.872</td>\n",
       "      <td>13.608</td>\n",
       "      <td>13.236</td>\n",
       "      <td>906958.34</td>\n",
       "      <td>848897.98</td>\n",
       "      <td>847142.31</td>\n",
       "    </tr>\n",
       "    <tr>\n",
       "      <th>1</th>\n",
       "      <td>2020-05-07</td>\n",
       "      <td>13.76</td>\n",
       "      <td>13.76</td>\n",
       "      <td>13.69</td>\n",
       "      <td>13.60</td>\n",
       "      <td>662749.25</td>\n",
       "      <td>-0.08</td>\n",
       "      <td>-0.58</td>\n",
       "      <td>13.786</td>\n",
       "      <td>13.558</td>\n",
       "      <td>13.183</td>\n",
       "      <td>874314.84</td>\n",
       "      <td>967664.64</td>\n",
       "      <td>843918.91</td>\n",
       "    </tr>\n",
       "    <tr>\n",
       "      <th>2</th>\n",
       "      <td>2020-05-06</td>\n",
       "      <td>13.76</td>\n",
       "      <td>13.89</td>\n",
       "      <td>13.77</td>\n",
       "      <td>13.61</td>\n",
       "      <td>1008998.00</td>\n",
       "      <td>-0.16</td>\n",
       "      <td>-1.15</td>\n",
       "      <td>13.748</td>\n",
       "      <td>13.488</td>\n",
       "      <td>13.129</td>\n",
       "      <td>929130.98</td>\n",
       "      <td>983235.29</td>\n",
       "      <td>852048.85</td>\n",
       "    </tr>\n",
       "    <tr>\n",
       "      <th>3</th>\n",
       "      <td>2020-04-30</td>\n",
       "      <td>14.02</td>\n",
       "      <td>14.32</td>\n",
       "      <td>13.93</td>\n",
       "      <td>13.88</td>\n",
       "      <td>819540.38</td>\n",
       "      <td>-0.09</td>\n",
       "      <td>-0.64</td>\n",
       "      <td>13.642</td>\n",
       "      <td>13.400</td>\n",
       "      <td>13.089</td>\n",
       "      <td>840531.70</td>\n",
       "      <td>1015451.97</td>\n",
       "      <td>827517.20</td>\n",
       "    </tr>\n",
       "    <tr>\n",
       "      <th>4</th>\n",
       "      <td>2020-04-29</td>\n",
       "      <td>13.48</td>\n",
       "      <td>14.10</td>\n",
       "      <td>14.02</td>\n",
       "      <td>13.45</td>\n",
       "      <td>1108722.38</td>\n",
       "      <td>0.50</td>\n",
       "      <td>3.70</td>\n",
       "      <td>13.502</td>\n",
       "      <td>13.275</td>\n",
       "      <td>13.037</td>\n",
       "      <td>806021.55</td>\n",
       "      <td>1012413.43</td>\n",
       "      <td>812581.99</td>\n",
       "    </tr>\n",
       "    <tr>\n",
       "      <th>...</th>\n",
       "      <td>...</td>\n",
       "      <td>...</td>\n",
       "      <td>...</td>\n",
       "      <td>...</td>\n",
       "      <td>...</td>\n",
       "      <td>...</td>\n",
       "      <td>...</td>\n",
       "      <td>...</td>\n",
       "      <td>...</td>\n",
       "      <td>...</td>\n",
       "      <td>...</td>\n",
       "      <td>...</td>\n",
       "      <td>...</td>\n",
       "      <td>...</td>\n",
       "    </tr>\n",
       "    <tr>\n",
       "      <th>602</th>\n",
       "      <td>2017-11-14</td>\n",
       "      <td>12.95</td>\n",
       "      <td>13.26</td>\n",
       "      <td>12.95</td>\n",
       "      <td>12.81</td>\n",
       "      <td>1780302.38</td>\n",
       "      <td>0.05</td>\n",
       "      <td>0.39</td>\n",
       "      <td>12.522</td>\n",
       "      <td>12.522</td>\n",
       "      <td>12.522</td>\n",
       "      <td>2532575.15</td>\n",
       "      <td>2532575.15</td>\n",
       "      <td>2532575.15</td>\n",
       "    </tr>\n",
       "    <tr>\n",
       "      <th>603</th>\n",
       "      <td>2017-11-13</td>\n",
       "      <td>12.35</td>\n",
       "      <td>13.10</td>\n",
       "      <td>12.90</td>\n",
       "      <td>12.35</td>\n",
       "      <td>2566906.25</td>\n",
       "      <td>0.60</td>\n",
       "      <td>4.88</td>\n",
       "      <td>12.415</td>\n",
       "      <td>12.415</td>\n",
       "      <td>12.415</td>\n",
       "      <td>2720643.35</td>\n",
       "      <td>2720643.35</td>\n",
       "      <td>2720643.35</td>\n",
       "    </tr>\n",
       "    <tr>\n",
       "      <th>604</th>\n",
       "      <td>2017-11-10</td>\n",
       "      <td>12.37</td>\n",
       "      <td>12.55</td>\n",
       "      <td>12.30</td>\n",
       "      <td>12.15</td>\n",
       "      <td>1757552.38</td>\n",
       "      <td>-0.03</td>\n",
       "      <td>-0.24</td>\n",
       "      <td>12.253</td>\n",
       "      <td>12.253</td>\n",
       "      <td>12.253</td>\n",
       "      <td>2771889.04</td>\n",
       "      <td>2771889.04</td>\n",
       "      <td>2771889.04</td>\n",
       "    </tr>\n",
       "    <tr>\n",
       "      <th>605</th>\n",
       "      <td>2017-11-09</td>\n",
       "      <td>12.20</td>\n",
       "      <td>12.57</td>\n",
       "      <td>12.33</td>\n",
       "      <td>12.15</td>\n",
       "      <td>2295289.25</td>\n",
       "      <td>0.20</td>\n",
       "      <td>1.65</td>\n",
       "      <td>12.230</td>\n",
       "      <td>12.230</td>\n",
       "      <td>12.230</td>\n",
       "      <td>3279057.38</td>\n",
       "      <td>3279057.38</td>\n",
       "      <td>3279057.38</td>\n",
       "    </tr>\n",
       "    <tr>\n",
       "      <th>606</th>\n",
       "      <td>2017-11-08</td>\n",
       "      <td>12.00</td>\n",
       "      <td>12.59</td>\n",
       "      <td>12.13</td>\n",
       "      <td>11.93</td>\n",
       "      <td>4262825.50</td>\n",
       "      <td>0.21</td>\n",
       "      <td>1.76</td>\n",
       "      <td>12.130</td>\n",
       "      <td>12.130</td>\n",
       "      <td>12.130</td>\n",
       "      <td>4262825.50</td>\n",
       "      <td>4262825.50</td>\n",
       "      <td>4262825.50</td>\n",
       "    </tr>\n",
       "  </tbody>\n",
       "</table>\n",
       "<p>607 rows × 14 columns</p>\n",
       "</div>"
      ],
      "text/plain": [
       "           date   open   high  close    low      volume  price_change  \\\n",
       "0    2020-05-08  13.76  14.02  13.95  13.68   934781.69          0.26   \n",
       "1    2020-05-07  13.76  13.76  13.69  13.60   662749.25         -0.08   \n",
       "2    2020-05-06  13.76  13.89  13.77  13.61  1008998.00         -0.16   \n",
       "3    2020-04-30  14.02  14.32  13.93  13.88   819540.38         -0.09   \n",
       "4    2020-04-29  13.48  14.10  14.02  13.45  1108722.38          0.50   \n",
       "..          ...    ...    ...    ...    ...         ...           ...   \n",
       "602  2017-11-14  12.95  13.26  12.95  12.81  1780302.38          0.05   \n",
       "603  2017-11-13  12.35  13.10  12.90  12.35  2566906.25          0.60   \n",
       "604  2017-11-10  12.37  12.55  12.30  12.15  1757552.38         -0.03   \n",
       "605  2017-11-09  12.20  12.57  12.33  12.15  2295289.25          0.20   \n",
       "606  2017-11-08  12.00  12.59  12.13  11.93  4262825.50          0.21   \n",
       "\n",
       "     p_change     ma5    ma10    ma20       v_ma5      v_ma10      v_ma20  \n",
       "0        1.90  13.872  13.608  13.236   906958.34   848897.98   847142.31  \n",
       "1       -0.58  13.786  13.558  13.183   874314.84   967664.64   843918.91  \n",
       "2       -1.15  13.748  13.488  13.129   929130.98   983235.29   852048.85  \n",
       "3       -0.64  13.642  13.400  13.089   840531.70  1015451.97   827517.20  \n",
       "4        3.70  13.502  13.275  13.037   806021.55  1012413.43   812581.99  \n",
       "..        ...     ...     ...     ...         ...         ...         ...  \n",
       "602      0.39  12.522  12.522  12.522  2532575.15  2532575.15  2532575.15  \n",
       "603      4.88  12.415  12.415  12.415  2720643.35  2720643.35  2720643.35  \n",
       "604     -0.24  12.253  12.253  12.253  2771889.04  2771889.04  2771889.04  \n",
       "605      1.65  12.230  12.230  12.230  3279057.38  3279057.38  3279057.38  \n",
       "606      1.76  12.130  12.130  12.130  4262825.50  4262825.50  4262825.50  \n",
       "\n",
       "[607 rows x 14 columns]"
      ]
     },
     "execution_count": 3,
     "metadata": {},
     "output_type": "execute_result"
    }
   ],
   "source": [
    "df = pd.read_excel('/Users/zhangzhen/Desktop/平安银行日线数据.xlsx')\n",
    "df"
   ]
  },
  {
   "cell_type": "code",
   "execution_count": 6,
   "metadata": {},
   "outputs": [
    {
     "data": {
      "text/plain": [
       "pandas.core.series.Series"
      ]
     },
     "execution_count": 6,
     "metadata": {},
     "output_type": "execute_result"
    }
   ],
   "source": [
    "#平安银行的每日收盘价\n",
    "#画折线图\n",
    "close = df.loc[:,'close']\n",
    "\n",
    "type(close)"
   ]
  },
  {
   "cell_type": "code",
   "execution_count": 5,
   "metadata": {},
   "outputs": [
    {
     "data": {
      "text/plain": [
       "[<matplotlib.lines.Line2D at 0x11d1c71d0>]"
      ]
     },
     "execution_count": 5,
     "metadata": {},
     "output_type": "execute_result"
    },
    {
     "data": {
      "image/png": "[encoded data removed]",
      "text/plain": [
       "<Figure size 432x288 with 1 Axes>"
      ]
     },
     "metadata": {
      "needs_background": "light"
     },
     "output_type": "display_data"
    }
   ],
   "source": [
    "plt.plot(close)"
   ]
  },
  {
   "cell_type": "code",
   "execution_count": 7,
   "metadata": {},
   "outputs": [],
   "source": [
    "#散点图\n",
    "date = df.loc[:,'date']\n",
    "close = df.loc[:,'close']"
   ]
  },
  {
   "cell_type": "code",
   "execution_count": 9,
   "metadata": {},
   "outputs": [
    {
     "data": {
      "text/plain": [
       "<matplotlib.collections.PathCollection at 0x11d328dd0>"
      ]
     },
     "execution_count": 9,
     "metadata": {},
     "output_type": "execute_result"
    },
    {
     "data": {
      "image/png": "[encoded data removed]",
      "text/plain": [
       "<Figure size 432x288 with 1 Axes>"
      ]
     },
     "metadata": {
      "needs_background": "light"
     },
     "output_type": "display_data"
    }
   ],
   "source": [
    "plt.scatter(date,close,s=10,c='r',alpha=0.5)\n",
    "\n",
    "#s 圆点面积\n",
    "#c 颜色\n",
    "#alpha 圆点透明度"
   ]
  },
  {
   "cell_type": "code",
   "execution_count": 10,
   "metadata": {},
   "outputs": [
    {
     "data": {
      "text/plain": [
       "<BarContainer object of 607 artists>"
      ]
     },
     "execution_count": 10,
     "metadata": {},
     "output_type": "execute_result"
    },
    {
     "data": {
      "image/png": "[encoded data removed]",
      "text/plain": [
       "<Figure size 432x288 with 1 Axes>"
      ]
     },
     "metadata": {
      "needs_background": "light"
     },
     "output_type": "display_data"
    }
   ],
   "source": [
    "#条形图\n",
    "plt.bar(date,height = close)"
   ]
  },
  {
   "cell_type": "code",
   "execution_count": 11,
   "metadata": {},
   "outputs": [
    {
     "data": {
      "text/plain": [
       "([<matplotlib.patches.Wedge at 0x11f6e0650>,\n",
       "  <matplotlib.patches.Wedge at 0x11f160910>,\n",
       "  <matplotlib.patches.Wedge at 0x11f6e0a10>,\n",
       "  <matplotlib.patches.Wedge at 0x11f6f34d0>],\n",
       " [Text(0.9801071672559598, 0.4993895680663527, ''),\n",
       "  Text(-0.3399187721714582, 1.046162142464278, ''),\n",
       "  Text(-0.49938947630209474, -0.9801072140121813, ''),\n",
       "  Text(1.0461621822461364, -0.3399186497354948, '')])"
      ]
     },
     "execution_count": 11,
     "metadata": {},
     "output_type": "execute_result"
    },
    {
     "data": {
      "image/png": "[encoded data removed]",
      "text/plain": [
       "<Figure size 432x288 with 1 Axes>"
      ]
     },
     "metadata": {},
     "output_type": "display_data"
    }
   ],
   "source": [
    "#饼状图\n",
    "total_value = [15,30,45,10]\n",
    "plt.pie(x = total_value)"
   ]
  },
  {
   "cell_type": "code",
   "execution_count": null,
   "metadata": {},
   "outputs": [],
   "source": []
  }
 ],
 "metadata": {
  "kernelspec": {
   "display_name": "Python 3",
   "language": "python",
   "name": "python3"
  },
  "language_info": {
   "codemirror_mode": {
    "name": "ipython",
    "version": 3
   },
   "file_extension": ".py",
   "mimetype": "text/x-python",
   "name": "python",
   "nbconvert_exporter": "python",
   "pygments_lexer": "ipython3",
   "version": "3.7.6"
  }
 },
 "nbformat": 4,
 "nbformat_minor": 4
}
