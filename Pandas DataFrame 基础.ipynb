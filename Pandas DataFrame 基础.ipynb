{
 "cells": [
  {
   "cell_type": "code",
   "execution_count": 2,
   "metadata": {},
   "outputs": [
    {
     "data": {
      "text/html": [
       "<div>\n",
       "<style scoped>\n",
       "    .dataframe tbody tr th:only-of-type {\n",
       "        vertical-align: middle;\n",
       "    }\n",
       "\n",
       "    .dataframe tbody tr th {\n",
       "        vertical-align: top;\n",
       "    }\n",
       "\n",
       "    .dataframe thead th {\n",
       "        text-align: right;\n",
       "    }\n",
       "</style>\n",
       "<table border=\"1\" class=\"dataframe\">\n",
       "  <thead>\n",
       "    <tr style=\"text-align: right;\">\n",
       "      <th></th>\n",
       "      <th>公司A</th>\n",
       "      <th>公司B</th>\n",
       "      <th>公司C</th>\n",
       "    </tr>\n",
       "  </thead>\n",
       "  <tbody>\n",
       "    <tr>\n",
       "      <th>净利润</th>\n",
       "      <td>5000</td>\n",
       "      <td>9000</td>\n",
       "      <td>8000</td>\n",
       "    </tr>\n",
       "    <tr>\n",
       "      <th>总收入</th>\n",
       "      <td>10000</td>\n",
       "      <td>10000</td>\n",
       "      <td>90000</td>\n",
       "    </tr>\n",
       "    <tr>\n",
       "      <th>利息支出</th>\n",
       "      <td>3000</td>\n",
       "      <td>3000</td>\n",
       "      <td>3000</td>\n",
       "    </tr>\n",
       "  </tbody>\n",
       "</table>\n",
       "</div>"
      ],
      "text/plain": [
       "        公司A    公司B    公司C\n",
       "净利润    5000   9000   8000\n",
       "总收入   10000  10000  90000\n",
       "利息支出   3000   3000   3000"
      ]
     },
     "execution_count": 2,
     "metadata": {},
     "output_type": "execute_result"
    }
   ],
   "source": [
    "#‘二维数组’DataFrame: 是一个表格形的数据结构，包含一组有序的列，其列的值类型可以是数值、字符串、布尔值等。\n",
    "#DataFrame中的数据以一个或多个二维块存放，不是列表，字典或一维数据结构。\n",
    "#DataFrame是多个Series的组合\n",
    "\n",
    "import pandas as pd\n",
    "\n",
    "A_income_sheet = pd.Series([5000,10000,3000],index=['净利润','总收入','利息支出'])\n",
    "B_income_sheet = pd.Series([9000,10000,3000],index=['净利润','总收入','利息支出'])\n",
    "C_income_sheet = pd.Series([8000,90000,3000],index=['净利润','总收入','利息支出'])\n",
    "\n",
    "#dict\n",
    "temp = {'公司A':A_income_sheet, '公司B':B_income_sheet,'公司C':C_income_sheet}\n",
    "\n",
    "df = pd.DataFrame(temp)\n",
    "df"
   ]
  },
  {
   "cell_type": "code",
   "execution_count": 6,
   "metadata": {},
   "outputs": [
    {
     "data": {
      "text/plain": [
       "公司A    5000\n",
       "公司B    9000\n",
       "公司C    8000\n",
       "Name: 净利润, dtype: int64"
      ]
     },
     "execution_count": 6,
     "metadata": {},
     "output_type": "execute_result"
    }
   ],
   "source": [
    "# 顺序 提取数据\n",
    "df.iloc[0,1] #行顺序，列顺序，中间以逗号隔开\n",
    "df.iloc[0:2,:]\n",
    "df.iloc[:,0]\n",
    "\n",
    "#索引 提取数据\n",
    "df.loc['净利润','公司A']\n",
    "df.loc['净利润',:]"
   ]
  },
  {
   "cell_type": "code",
   "execution_count": 19,
   "metadata": {},
   "outputs": [
    {
     "data": {
      "text/html": [
       "<div>\n",
       "<style scoped>\n",
       "    .dataframe tbody tr th:only-of-type {\n",
       "        vertical-align: middle;\n",
       "    }\n",
       "\n",
       "    .dataframe tbody tr th {\n",
       "        vertical-align: top;\n",
       "    }\n",
       "\n",
       "    .dataframe thead th {\n",
       "        text-align: right;\n",
       "    }\n",
       "</style>\n",
       "<table border=\"1\" class=\"dataframe\">\n",
       "  <thead>\n",
       "    <tr style=\"text-align: right;\">\n",
       "      <th></th>\n",
       "      <th>净利润</th>\n",
       "      <th>总收入</th>\n",
       "      <th>利息支出</th>\n",
       "      <th>管理费用</th>\n",
       "    </tr>\n",
       "  </thead>\n",
       "  <tbody>\n",
       "    <tr>\n",
       "      <th>公司B</th>\n",
       "      <td>9000.0</td>\n",
       "      <td>10000.0</td>\n",
       "      <td>3000.0</td>\n",
       "      <td>500.0</td>\n",
       "    </tr>\n",
       "    <tr>\n",
       "      <th>公司C</th>\n",
       "      <td>8000.0</td>\n",
       "      <td>90000.0</td>\n",
       "      <td>3000.0</td>\n",
       "      <td>3000.0</td>\n",
       "    </tr>\n",
       "    <tr>\n",
       "      <th>公司A</th>\n",
       "      <td>450.0</td>\n",
       "      <td>10000.0</td>\n",
       "      <td>3000.0</td>\n",
       "      <td>200.0</td>\n",
       "    </tr>\n",
       "    <tr>\n",
       "      <th>公司D</th>\n",
       "      <td>50.0</td>\n",
       "      <td>20.0</td>\n",
       "      <td>10.0</td>\n",
       "      <td>30.0</td>\n",
       "    </tr>\n",
       "  </tbody>\n",
       "</table>\n",
       "</div>"
      ],
      "text/plain": [
       "        净利润      总收入    利息支出    管理费用\n",
       "公司B  9000.0  10000.0  3000.0   500.0\n",
       "公司C  8000.0  90000.0  3000.0  3000.0\n",
       "公司A   450.0  10000.0  3000.0   200.0\n",
       "公司D    50.0     20.0    10.0    30.0"
      ]
     },
     "execution_count": 19,
     "metadata": {},
     "output_type": "execute_result"
    }
   ],
   "source": [
    "#（1） 转置，行和列之间对换\n",
    "df1 = df.T\n",
    "df1\n",
    "\n",
    "#行的索引 是日期， 列的 名称 是各项属性\n",
    "\n",
    "#（2）增加 修改 数值\n",
    "a = [200,500,3000]\n",
    "\n",
    "df1.loc[:,'管理费用'] = a\n",
    "df1\n",
    "\n",
    "b = [50,20,10,30]\n",
    "df1.loc['公司D',:] = b\n",
    "df1\n",
    "\n",
    "df1.iloc[0,0] = 450\n",
    "df1\n",
    "\n",
    "#（3）删减数据\n",
    "# drop\n",
    "df1.drop(index=['公司A'])\n",
    "df1.drop(columns=['总收入'])\n",
    "\n",
    "\n",
    "#（4）排序数据\n",
    "df1\n",
    "df1.sort_values(by = ['净利润'],ascending = False)\n"
   ]
  },
  {
   "cell_type": "code",
   "execution_count": null,
   "metadata": {},
   "outputs": [],
   "source": []
  },
  {
   "cell_type": "code",
   "execution_count": null,
   "metadata": {},
   "outputs": [],
   "source": []
  }
 ],
 "metadata": {
  "kernelspec": {
   "display_name": "Python 3",
   "language": "python",
   "name": "python3"
  },
  "language_info": {
   "codemirror_mode": {
    "name": "ipython",
    "version": 3
   },
   "file_extension": ".py",
   "mimetype": "text/x-python",
   "name": "python",
   "nbconvert_exporter": "python",
   "pygments_lexer": "ipython3",
   "version": "3.7.6"
  }
 },
 "nbformat": 4,
 "nbformat_minor": 4
}
